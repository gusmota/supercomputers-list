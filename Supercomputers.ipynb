{
 "cells": [
  {
   "cell_type": "markdown",
   "id": "thorough-taylor",
   "metadata": {},
   "source": [
    "In the context of researching NVIDIA and the semiconductor industry, we investigated the top 500 supercomputers of the world. In order to be able to work with the data, first we examine the website, its properties and how can we get the data into dataframe and get insights: \n",
    "https://www.top500.org/lists/top500/list/2020/11/?page=1"
   ]
  },
  {
   "cell_type": "markdown",
   "id": "hispanic-medium",
   "metadata": {},
   "source": [
    "### Part 1 - The website "
   ]
  },
  {
   "cell_type": "markdown",
   "id": "regulated-gothic",
   "metadata": {},
   "source": [
    "![top500](./image1.png)\n",
    "The snippet above shows a table structure in the website, since it is a comprehensive list of 500 entries, the entries are tranched by 100 and those can be called within the URL as page=1, 2, ... , and so on. It is worth noting that the list is published on **june and november of each year** In this way we can define a function, such that we enter the year, the semester "
   ]
  },
  {
   "cell_type": "code",
   "execution_count": 27,
   "id": "public-walker",
   "metadata": {},
   "outputs": [
    {
     "name": "stdout",
     "output_type": "stream",
     "text": [
      "https://www.top500.org/lists/top500/list/2020/11/?page=\n",
      "['https://www.top500.org/lists/top500/list/2020/11/?page=1', 'https://www.top500.org/lists/top500/list/2020/11/?page=2', 'https://www.top500.org/lists/top500/list/2020/11/?page=3', 'https://www.top500.org/lists/top500/list/2020/11/?page=4', 'https://www.top500.org/lists/top500/list/2020/11/?page=5']\n",
      "<generator object <genexpr> at 0x000001FBB5B4F190>\n"
     ]
    }
   ],
   "source": [
    "# define month and year\n",
    "\n",
    "month = 11 #by default\n",
    "year = 2020 # by default \n",
    "\n",
    "# define the string \n",
    "\n",
    "my_url = ('https://www.top500.org/lists/top500/list/{}/{}/?page=').format(year,month)\n",
    "print (my_url)\n",
    "\n",
    "# make a for loop as traditional, then try to do it with an iterator \n",
    "urls_list = []\n",
    "\n",
    "for i in range(1,6):\n",
    "    urls_list.append(my_url+str(i))\n",
    "    \n",
    "print (urls_list)\n",
    "\n",
    "# now let's use a list comprehension and not explicit but generated\n",
    "\n",
    "clist = (my_url+str(i) for i in range(1,6))\n",
    "print (clist)\n"
   ]
  },
  {
   "cell_type": "code",
   "execution_count": null,
   "id": "lesbian-identification",
   "metadata": {},
   "outputs": [],
   "source": [
    "# once we have the URLs list we just pass it through the read html function and then join the dataframes\n",
    "\n"
   ]
  },
  {
   "cell_type": "code",
   "execution_count": 22,
   "id": "affiliated-drawing",
   "metadata": {},
   "outputs": [],
   "source": [
    "## When succesful, the code will be passed to a function \n",
    "def list500 (year=2020, month=6):\n",
    "    return ('Success')"
   ]
  }
 ],
 "metadata": {
  "kernelspec": {
   "display_name": "Python 3",
   "language": "python",
   "name": "python3"
  },
  "language_info": {
   "codemirror_mode": {
    "name": "ipython",
    "version": 3
   },
   "file_extension": ".py",
   "mimetype": "text/x-python",
   "name": "python",
   "nbconvert_exporter": "python",
   "pygments_lexer": "ipython3",
   "version": "3.9.1"
  }
 },
 "nbformat": 4,
 "nbformat_minor": 5
}
